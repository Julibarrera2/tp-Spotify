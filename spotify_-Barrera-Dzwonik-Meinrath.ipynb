{
 "cells": [
  {
   "cell_type": "code",
   "execution_count": 13,
   "metadata": {},
   "outputs": [
    {
     "name": "stdout",
     "output_type": "stream",
     "text": [
      "Requirement already satisfied: pandas in c:\\users\\admin\\appdata\\local\\packages\\pythonsoftwarefoundation.python.3.11_qbz5n2kfra8p0\\localcache\\local-packages\\python311\\site-packages (2.2.2)\n",
      "Requirement already satisfied: numpy>=1.23.2 in c:\\users\\admin\\appdata\\local\\packages\\pythonsoftwarefoundation.python.3.11_qbz5n2kfra8p0\\localcache\\local-packages\\python311\\site-packages (from pandas) (2.0.0)\n",
      "Requirement already satisfied: python-dateutil>=2.8.2 in c:\\users\\admin\\appdata\\local\\packages\\pythonsoftwarefoundation.python.3.11_qbz5n2kfra8p0\\localcache\\local-packages\\python311\\site-packages (from pandas) (2.9.0.post0)\n",
      "Requirement already satisfied: pytz>=2020.1 in c:\\users\\admin\\appdata\\local\\packages\\pythonsoftwarefoundation.python.3.11_qbz5n2kfra8p0\\localcache\\local-packages\\python311\\site-packages (from pandas) (2024.1)\n",
      "Requirement already satisfied: tzdata>=2022.7 in c:\\users\\admin\\appdata\\local\\packages\\pythonsoftwarefoundation.python.3.11_qbz5n2kfra8p0\\localcache\\local-packages\\python311\\site-packages (from pandas) (2024.1)\n",
      "Requirement already satisfied: six>=1.5 in c:\\users\\admin\\appdata\\local\\packages\\pythonsoftwarefoundation.python.3.11_qbz5n2kfra8p0\\localcache\\local-packages\\python311\\site-packages (from python-dateutil>=2.8.2->pandas) (1.16.0)\n",
      "Note: you may need to restart the kernel to use updated packages.\n",
      "Requirement already satisfied: matplotlib in c:\\users\\admin\\appdata\\local\\packages\\pythonsoftwarefoundation.python.3.11_qbz5n2kfra8p0\\localcache\\local-packages\\python311\\site-packages (3.9.0)\n",
      "Requirement already satisfied: contourpy>=1.0.1 in c:\\users\\admin\\appdata\\local\\packages\\pythonsoftwarefoundation.python.3.11_qbz5n2kfra8p0\\localcache\\local-packages\\python311\\site-packages (from matplotlib) (1.2.1)\n",
      "Requirement already satisfied: cycler>=0.10 in c:\\users\\admin\\appdata\\local\\packages\\pythonsoftwarefoundation.python.3.11_qbz5n2kfra8p0\\localcache\\local-packages\\python311\\site-packages (from matplotlib) (0.12.1)\n",
      "Requirement already satisfied: fonttools>=4.22.0 in c:\\users\\admin\\appdata\\local\\packages\\pythonsoftwarefoundation.python.3.11_qbz5n2kfra8p0\\localcache\\local-packages\\python311\\site-packages (from matplotlib) (4.53.0)\n",
      "Requirement already satisfied: kiwisolver>=1.3.1 in c:\\users\\admin\\appdata\\local\\packages\\pythonsoftwarefoundation.python.3.11_qbz5n2kfra8p0\\localcache\\local-packages\\python311\\site-packages (from matplotlib) (1.4.5)\n",
      "Requirement already satisfied: numpy>=1.23 in c:\\users\\admin\\appdata\\local\\packages\\pythonsoftwarefoundation.python.3.11_qbz5n2kfra8p0\\localcache\\local-packages\\python311\\site-packages (from matplotlib) (2.0.0)\n",
      "Requirement already satisfied: packaging>=20.0 in c:\\users\\admin\\appdata\\local\\packages\\pythonsoftwarefoundation.python.3.11_qbz5n2kfra8p0\\localcache\\local-packages\\python311\\site-packages (from matplotlib) (24.1)\n",
      "Requirement already satisfied: pillow>=8 in c:\\users\\admin\\appdata\\local\\packages\\pythonsoftwarefoundation.python.3.11_qbz5n2kfra8p0\\localcache\\local-packages\\python311\\site-packages (from matplotlib) (10.3.0)\n",
      "Requirement already satisfied: pyparsing>=2.3.1 in c:\\users\\admin\\appdata\\local\\packages\\pythonsoftwarefoundation.python.3.11_qbz5n2kfra8p0\\localcache\\local-packages\\python311\\site-packages (from matplotlib) (3.1.2)\n",
      "Requirement already satisfied: python-dateutil>=2.7 in c:\\users\\admin\\appdata\\local\\packages\\pythonsoftwarefoundation.python.3.11_qbz5n2kfra8p0\\localcache\\local-packages\\python311\\site-packages (from matplotlib) (2.9.0.post0)\n",
      "Requirement already satisfied: six>=1.5 in c:\\users\\admin\\appdata\\local\\packages\\pythonsoftwarefoundation.python.3.11_qbz5n2kfra8p0\\localcache\\local-packages\\python311\\site-packages (from python-dateutil>=2.7->matplotlib) (1.16.0)\n",
      "Note: you may need to restart the kernel to use updated packages.\n"
     ]
    }
   ],
   "source": [
    "%pip install pandas\n",
    "%pip install matplotlib"
   ]
  },
  {
   "cell_type": "code",
   "execution_count": 1,
   "metadata": {},
   "outputs": [],
   "source": [
    "import pandas as pd\n",
    "import matplotlib.pyplot as plt"
   ]
  },
  {
   "cell_type": "code",
   "execution_count": 2,
   "metadata": {},
   "outputs": [
    {
     "name": "stderr",
     "output_type": "stream",
     "text": [
      "C:\\Users\\Admin\\AppData\\Local\\Temp\\ipykernel_2592\\1760131068.py:4: DtypeWarning: Columns (16) have mixed types. Specify dtype option on import or set low_memory=False.\n",
      "  spotify : pd.DataFrame = pd.read_csv(archivo)\n"
     ]
    },
    {
     "data": {
      "text/html": [
       "<div>\n",
       "<style scoped>\n",
       "    .dataframe tbody tr th:only-of-type {\n",
       "        vertical-align: middle;\n",
       "    }\n",
       "\n",
       "    .dataframe tbody tr th {\n",
       "        vertical-align: top;\n",
       "    }\n",
       "\n",
       "    .dataframe thead th {\n",
       "        text-align: right;\n",
       "    }\n",
       "</style>\n",
       "<table border=\"1\" class=\"dataframe\">\n",
       "  <thead>\n",
       "    <tr style=\"text-align: right;\">\n",
       "      <th></th>\n",
       "      <th>ts</th>\n",
       "      <th>username</th>\n",
       "      <th>platform</th>\n",
       "      <th>ms_played</th>\n",
       "      <th>conn_country</th>\n",
       "      <th>user_agent_decrypted</th>\n",
       "      <th>master_metadata_track_name</th>\n",
       "      <th>master_metadata_album_artist_name</th>\n",
       "      <th>master_metadata_album_album_name</th>\n",
       "      <th>spotify_track_uri</th>\n",
       "      <th>episode_name</th>\n",
       "      <th>episode_show_name</th>\n",
       "      <th>spotify_episode_uri</th>\n",
       "      <th>reason_start</th>\n",
       "      <th>reason_end</th>\n",
       "      <th>shuffle</th>\n",
       "      <th>skipped</th>\n",
       "      <th>offline</th>\n",
       "      <th>offline_timestamp</th>\n",
       "      <th>is_podcast</th>\n",
       "    </tr>\n",
       "  </thead>\n",
       "  <tbody>\n",
       "    <tr>\n",
       "      <th>0</th>\n",
       "      <td>2020-12-06T02:51:11Z</td>\n",
       "      <td>11145402699</td>\n",
       "      <td>iOS 14.2 (iPhone12,3)</td>\n",
       "      <td>145610</td>\n",
       "      <td>AR</td>\n",
       "      <td>unknown</td>\n",
       "      <td>Hey Jude - Remastered 2015</td>\n",
       "      <td>The Beatles</td>\n",
       "      <td>1</td>\n",
       "      <td>spotify:track:0aym2LBJBk9DAYuHHutrIl</td>\n",
       "      <td>NaN</td>\n",
       "      <td>NaN</td>\n",
       "      <td>NaN</td>\n",
       "      <td>trackdone</td>\n",
       "      <td>fwdbtn</td>\n",
       "      <td>True</td>\n",
       "      <td>NaN</td>\n",
       "      <td>False</td>\n",
       "      <td>1607222710755</td>\n",
       "      <td>False</td>\n",
       "    </tr>\n",
       "    <tr>\n",
       "      <th>1</th>\n",
       "      <td>2020-12-06T02:53:31Z</td>\n",
       "      <td>11145402699</td>\n",
       "      <td>iOS 14.2 (iPhone12,3)</td>\n",
       "      <td>138692</td>\n",
       "      <td>AR</td>\n",
       "      <td>unknown</td>\n",
       "      <td>Hacer un puente</td>\n",
       "      <td>La Franela</td>\n",
       "      <td>Hacer Un Puente</td>\n",
       "      <td>spotify:track:18Q3WTfyWX1tdS1cp42NhA</td>\n",
       "      <td>NaN</td>\n",
       "      <td>NaN</td>\n",
       "      <td>NaN</td>\n",
       "      <td>fwdbtn</td>\n",
       "      <td>fwdbtn</td>\n",
       "      <td>True</td>\n",
       "      <td>NaN</td>\n",
       "      <td>False</td>\n",
       "      <td>1607223071185</td>\n",
       "      <td>False</td>\n",
       "    </tr>\n",
       "    <tr>\n",
       "      <th>2</th>\n",
       "      <td>2020-12-06T02:53:53Z</td>\n",
       "      <td>11145402699</td>\n",
       "      <td>iOS 14.2 (iPhone12,3)</td>\n",
       "      <td>22662</td>\n",
       "      <td>AR</td>\n",
       "      <td>unknown</td>\n",
       "      <td>Happy Together - Remastered</td>\n",
       "      <td>The Turtles</td>\n",
       "      <td>All the Singles</td>\n",
       "      <td>spotify:track:2admbUc576sC6M0QeUkg2C</td>\n",
       "      <td>NaN</td>\n",
       "      <td>NaN</td>\n",
       "      <td>NaN</td>\n",
       "      <td>fwdbtn</td>\n",
       "      <td>fwdbtn</td>\n",
       "      <td>True</td>\n",
       "      <td>NaN</td>\n",
       "      <td>False</td>\n",
       "      <td>1607223210387</td>\n",
       "      <td>False</td>\n",
       "    </tr>\n",
       "    <tr>\n",
       "      <th>3</th>\n",
       "      <td>2020-12-06T02:53:56Z</td>\n",
       "      <td>11145402699</td>\n",
       "      <td>iOS 14.2 (iPhone12,3)</td>\n",
       "      <td>2716</td>\n",
       "      <td>AR</td>\n",
       "      <td>unknown</td>\n",
       "      <td>Demons</td>\n",
       "      <td>Imagine Dragons</td>\n",
       "      <td>Night Visions</td>\n",
       "      <td>spotify:track:5qaEfEh1AtSdrdrByCP7qR</td>\n",
       "      <td>NaN</td>\n",
       "      <td>NaN</td>\n",
       "      <td>NaN</td>\n",
       "      <td>fwdbtn</td>\n",
       "      <td>fwdbtn</td>\n",
       "      <td>True</td>\n",
       "      <td>NaN</td>\n",
       "      <td>False</td>\n",
       "      <td>1607223233165</td>\n",
       "      <td>False</td>\n",
       "    </tr>\n",
       "    <tr>\n",
       "      <th>4</th>\n",
       "      <td>2020-12-06T02:53:57Z</td>\n",
       "      <td>11145402699</td>\n",
       "      <td>iOS 14.2 (iPhone12,3)</td>\n",
       "      <td>116</td>\n",
       "      <td>AR</td>\n",
       "      <td>unknown</td>\n",
       "      <td>Paint It, Black</td>\n",
       "      <td>The Rolling Stones</td>\n",
       "      <td>Aftermath</td>\n",
       "      <td>spotify:track:63T7DJ1AFDD6Bn8VzG6JE8</td>\n",
       "      <td>NaN</td>\n",
       "      <td>NaN</td>\n",
       "      <td>NaN</td>\n",
       "      <td>fwdbtn</td>\n",
       "      <td>fwdbtn</td>\n",
       "      <td>True</td>\n",
       "      <td>NaN</td>\n",
       "      <td>False</td>\n",
       "      <td>1607223236453</td>\n",
       "      <td>False</td>\n",
       "    </tr>\n",
       "    <tr>\n",
       "      <th>...</th>\n",
       "      <td>...</td>\n",
       "      <td>...</td>\n",
       "      <td>...</td>\n",
       "      <td>...</td>\n",
       "      <td>...</td>\n",
       "      <td>...</td>\n",
       "      <td>...</td>\n",
       "      <td>...</td>\n",
       "      <td>...</td>\n",
       "      <td>...</td>\n",
       "      <td>...</td>\n",
       "      <td>...</td>\n",
       "      <td>...</td>\n",
       "      <td>...</td>\n",
       "      <td>...</td>\n",
       "      <td>...</td>\n",
       "      <td>...</td>\n",
       "      <td>...</td>\n",
       "      <td>...</td>\n",
       "      <td>...</td>\n",
       "    </tr>\n",
       "    <tr>\n",
       "      <th>125344</th>\n",
       "      <td>2018-10-05T22:44:53Z</td>\n",
       "      <td>11145402699</td>\n",
       "      <td>iOS 12.0 (iPhone8,1)</td>\n",
       "      <td>1365</td>\n",
       "      <td>AR</td>\n",
       "      <td>unknown</td>\n",
       "      <td>Gente Que No Sabe Lo Que Quiere</td>\n",
       "      <td>Litto Nebbia</td>\n",
       "      <td>Solo Se Trata de Vivir / Solopiano Vol. 1</td>\n",
       "      <td>spotify:track:3u8sP95YHOsYwRQfms6kgc</td>\n",
       "      <td>NaN</td>\n",
       "      <td>NaN</td>\n",
       "      <td>NaN</td>\n",
       "      <td>fwdbtn</td>\n",
       "      <td>fwdbtn</td>\n",
       "      <td>False</td>\n",
       "      <td>NaN</td>\n",
       "      <td>False</td>\n",
       "      <td>1538779491211</td>\n",
       "      <td>False</td>\n",
       "    </tr>\n",
       "    <tr>\n",
       "      <th>125345</th>\n",
       "      <td>2018-10-05T22:44:54Z</td>\n",
       "      <td>11145402699</td>\n",
       "      <td>iOS 12.0 (iPhone8,1)</td>\n",
       "      <td>1344</td>\n",
       "      <td>AR</td>\n",
       "      <td>unknown</td>\n",
       "      <td>11 Y 6</td>\n",
       "      <td>Fito Paez</td>\n",
       "      <td>Giros</td>\n",
       "      <td>spotify:track:2PkTjm1QAJCZbJ9MqC4RqA</td>\n",
       "      <td>NaN</td>\n",
       "      <td>NaN</td>\n",
       "      <td>NaN</td>\n",
       "      <td>fwdbtn</td>\n",
       "      <td>fwdbtn</td>\n",
       "      <td>False</td>\n",
       "      <td>NaN</td>\n",
       "      <td>False</td>\n",
       "      <td>1538779492740</td>\n",
       "      <td>False</td>\n",
       "    </tr>\n",
       "    <tr>\n",
       "      <th>125346</th>\n",
       "      <td>2018-10-05T22:44:55Z</td>\n",
       "      <td>11145402699</td>\n",
       "      <td>iOS 12.0 (iPhone8,1)</td>\n",
       "      <td>832</td>\n",
       "      <td>AR</td>\n",
       "      <td>unknown</td>\n",
       "      <td>Mientes</td>\n",
       "      <td>Charly García</td>\n",
       "      <td>Tango 4</td>\n",
       "      <td>spotify:track:670dXRMKr9vVtGk01dYeSr</td>\n",
       "      <td>NaN</td>\n",
       "      <td>NaN</td>\n",
       "      <td>NaN</td>\n",
       "      <td>fwdbtn</td>\n",
       "      <td>fwdbtn</td>\n",
       "      <td>False</td>\n",
       "      <td>NaN</td>\n",
       "      <td>False</td>\n",
       "      <td>1538779494205</td>\n",
       "      <td>False</td>\n",
       "    </tr>\n",
       "    <tr>\n",
       "      <th>125347</th>\n",
       "      <td>2018-10-05T22:44:56Z</td>\n",
       "      <td>11145402699</td>\n",
       "      <td>iOS 12.0 (iPhone8,1)</td>\n",
       "      <td>1194</td>\n",
       "      <td>AR</td>\n",
       "      <td>unknown</td>\n",
       "      <td>Apostar al Amor</td>\n",
       "      <td>Los Tipitos</td>\n",
       "      <td>Push</td>\n",
       "      <td>spotify:track:6PyBNCpOX5uOjKDNjNNgjq</td>\n",
       "      <td>NaN</td>\n",
       "      <td>NaN</td>\n",
       "      <td>NaN</td>\n",
       "      <td>fwdbtn</td>\n",
       "      <td>fwdbtn</td>\n",
       "      <td>False</td>\n",
       "      <td>NaN</td>\n",
       "      <td>False</td>\n",
       "      <td>1538779495059</td>\n",
       "      <td>False</td>\n",
       "    </tr>\n",
       "    <tr>\n",
       "      <th>125348</th>\n",
       "      <td>2018-10-05T22:44:58Z</td>\n",
       "      <td>11145402699</td>\n",
       "      <td>iOS 12.0 (iPhone8,1)</td>\n",
       "      <td>85</td>\n",
       "      <td>AR</td>\n",
       "      <td>unknown</td>\n",
       "      <td>El Palomo</td>\n",
       "      <td>Kevin Johansen</td>\n",
       "      <td>Kevin Johansen + The Nada + Liniers: Vivo En B...</td>\n",
       "      <td>spotify:track:5773XHHdECHO8d5BMWjtIS</td>\n",
       "      <td>NaN</td>\n",
       "      <td>NaN</td>\n",
       "      <td>NaN</td>\n",
       "      <td>fwdbtn</td>\n",
       "      <td>fwdbtn</td>\n",
       "      <td>False</td>\n",
       "      <td>NaN</td>\n",
       "      <td>False</td>\n",
       "      <td>1538779496312</td>\n",
       "      <td>False</td>\n",
       "    </tr>\n",
       "  </tbody>\n",
       "</table>\n",
       "<p>125349 rows × 20 columns</p>\n",
       "</div>"
      ],
      "text/plain": [
       "                          ts     username               platform  ms_played  \\\n",
       "0       2020-12-06T02:51:11Z  11145402699  iOS 14.2 (iPhone12,3)     145610   \n",
       "1       2020-12-06T02:53:31Z  11145402699  iOS 14.2 (iPhone12,3)     138692   \n",
       "2       2020-12-06T02:53:53Z  11145402699  iOS 14.2 (iPhone12,3)      22662   \n",
       "3       2020-12-06T02:53:56Z  11145402699  iOS 14.2 (iPhone12,3)       2716   \n",
       "4       2020-12-06T02:53:57Z  11145402699  iOS 14.2 (iPhone12,3)        116   \n",
       "...                      ...          ...                    ...        ...   \n",
       "125344  2018-10-05T22:44:53Z  11145402699   iOS 12.0 (iPhone8,1)       1365   \n",
       "125345  2018-10-05T22:44:54Z  11145402699   iOS 12.0 (iPhone8,1)       1344   \n",
       "125346  2018-10-05T22:44:55Z  11145402699   iOS 12.0 (iPhone8,1)        832   \n",
       "125347  2018-10-05T22:44:56Z  11145402699   iOS 12.0 (iPhone8,1)       1194   \n",
       "125348  2018-10-05T22:44:58Z  11145402699   iOS 12.0 (iPhone8,1)         85   \n",
       "\n",
       "       conn_country user_agent_decrypted       master_metadata_track_name  \\\n",
       "0                AR              unknown       Hey Jude - Remastered 2015   \n",
       "1                AR              unknown                  Hacer un puente   \n",
       "2                AR              unknown      Happy Together - Remastered   \n",
       "3                AR              unknown                           Demons   \n",
       "4                AR              unknown                  Paint It, Black   \n",
       "...             ...                  ...                              ...   \n",
       "125344           AR              unknown  Gente Que No Sabe Lo Que Quiere   \n",
       "125345           AR              unknown                           11 Y 6   \n",
       "125346           AR              unknown                          Mientes   \n",
       "125347           AR              unknown                  Apostar al Amor   \n",
       "125348           AR              unknown                        El Palomo   \n",
       "\n",
       "       master_metadata_album_artist_name  \\\n",
       "0                            The Beatles   \n",
       "1                             La Franela   \n",
       "2                            The Turtles   \n",
       "3                        Imagine Dragons   \n",
       "4                     The Rolling Stones   \n",
       "...                                  ...   \n",
       "125344                      Litto Nebbia   \n",
       "125345                         Fito Paez   \n",
       "125346                     Charly García   \n",
       "125347                       Los Tipitos   \n",
       "125348                    Kevin Johansen   \n",
       "\n",
       "                         master_metadata_album_album_name  \\\n",
       "0                                                       1   \n",
       "1                                         Hacer Un Puente   \n",
       "2                                         All the Singles   \n",
       "3                                           Night Visions   \n",
       "4                                               Aftermath   \n",
       "...                                                   ...   \n",
       "125344          Solo Se Trata de Vivir / Solopiano Vol. 1   \n",
       "125345                                              Giros   \n",
       "125346                                            Tango 4   \n",
       "125347                                               Push   \n",
       "125348  Kevin Johansen + The Nada + Liniers: Vivo En B...   \n",
       "\n",
       "                           spotify_track_uri episode_name episode_show_name  \\\n",
       "0       spotify:track:0aym2LBJBk9DAYuHHutrIl          NaN               NaN   \n",
       "1       spotify:track:18Q3WTfyWX1tdS1cp42NhA          NaN               NaN   \n",
       "2       spotify:track:2admbUc576sC6M0QeUkg2C          NaN               NaN   \n",
       "3       spotify:track:5qaEfEh1AtSdrdrByCP7qR          NaN               NaN   \n",
       "4       spotify:track:63T7DJ1AFDD6Bn8VzG6JE8          NaN               NaN   \n",
       "...                                      ...          ...               ...   \n",
       "125344  spotify:track:3u8sP95YHOsYwRQfms6kgc          NaN               NaN   \n",
       "125345  spotify:track:2PkTjm1QAJCZbJ9MqC4RqA          NaN               NaN   \n",
       "125346  spotify:track:670dXRMKr9vVtGk01dYeSr          NaN               NaN   \n",
       "125347  spotify:track:6PyBNCpOX5uOjKDNjNNgjq          NaN               NaN   \n",
       "125348  spotify:track:5773XHHdECHO8d5BMWjtIS          NaN               NaN   \n",
       "\n",
       "       spotify_episode_uri reason_start reason_end  shuffle skipped  offline  \\\n",
       "0                      NaN    trackdone     fwdbtn     True     NaN    False   \n",
       "1                      NaN       fwdbtn     fwdbtn     True     NaN    False   \n",
       "2                      NaN       fwdbtn     fwdbtn     True     NaN    False   \n",
       "3                      NaN       fwdbtn     fwdbtn     True     NaN    False   \n",
       "4                      NaN       fwdbtn     fwdbtn     True     NaN    False   \n",
       "...                    ...          ...        ...      ...     ...      ...   \n",
       "125344                 NaN       fwdbtn     fwdbtn    False     NaN    False   \n",
       "125345                 NaN       fwdbtn     fwdbtn    False     NaN    False   \n",
       "125346                 NaN       fwdbtn     fwdbtn    False     NaN    False   \n",
       "125347                 NaN       fwdbtn     fwdbtn    False     NaN    False   \n",
       "125348                 NaN       fwdbtn     fwdbtn    False     NaN    False   \n",
       "\n",
       "        offline_timestamp  is_podcast  \n",
       "0           1607222710755       False  \n",
       "1           1607223071185       False  \n",
       "2           1607223210387       False  \n",
       "3           1607223233165       False  \n",
       "4           1607223236453       False  \n",
       "...                   ...         ...  \n",
       "125344      1538779491211       False  \n",
       "125345      1538779492740       False  \n",
       "125346      1538779494205       False  \n",
       "125347      1538779495059       False  \n",
       "125348      1538779496312       False  \n",
       "\n",
       "[125349 rows x 20 columns]"
      ]
     },
     "execution_count": 2,
     "metadata": {},
     "output_type": "execute_result"
    }
   ],
   "source": [
    "archivo = \"StreamingHistory_Extended.csv\"\n",
    "\n",
    "# Leer datos del archivo\n",
    "spotify : pd.DataFrame = pd.read_csv(archivo)\n",
    "spotify \n"
   ]
  },
  {
   "cell_type": "code",
   "execution_count": null,
   "metadata": {},
   "outputs": [],
   "source": [
    "#Integrantes: Julia Barrera, Mia Dzwonik y Victoria Meinrath\n",
    "#:)"
   ]
  },
  {
   "cell_type": "code",
   "execution_count": 22,
   "metadata": {},
   "outputs": [
    {
     "name": "stdout",
     "output_type": "stream",
     "text": [
      "<class 'pandas.core.frame.DataFrame'>\n",
      "RangeIndex: 125349 entries, 0 to 125348\n",
      "Data columns (total 20 columns):\n",
      " #   Column                             Non-Null Count   Dtype \n",
      "---  ------                             --------------   ----- \n",
      " 0   ts                                 125349 non-null  object\n",
      " 1   username                           125349 non-null  int64 \n",
      " 2   platform                           125349 non-null  object\n",
      " 3   ms_played                          125349 non-null  int64 \n",
      " 4   conn_country                       125349 non-null  object\n",
      " 5   user_agent_decrypted               104897 non-null  object\n",
      " 6   master_metadata_track_name         123953 non-null  object\n",
      " 7   master_metadata_album_artist_name  123953 non-null  object\n",
      " 8   master_metadata_album_album_name   123953 non-null  object\n",
      " 9   spotify_track_uri                  123953 non-null  object\n",
      " 10  episode_name                       168 non-null     object\n",
      " 11  episode_show_name                  168 non-null     object\n",
      " 12  spotify_episode_uri                168 non-null     object\n",
      " 13  reason_start                       125344 non-null  object\n",
      " 14  reason_end                         105739 non-null  object\n",
      " 15  shuffle                            125349 non-null  bool  \n",
      " 16  skipped                            16354 non-null   object\n",
      " 17  offline                            125349 non-null  bool  \n",
      " 18  offline_timestamp                  125349 non-null  int64 \n",
      " 19  is_podcast                         125349 non-null  bool  \n",
      "dtypes: bool(3), int64(3), object(14)\n",
      "memory usage: 16.6+ MB\n"
     ]
    }
   ],
   "source": [
    "#¿Que información contiene el dataset? Describir las columnas y los tipos de datos. \n",
    "# Pista: ¿Son todas las columnas necesarias para el análisis? ¿Son todos los registros del mismo tipo?\n",
    "spotify.info()\n",
    "#TS tien la fecha en un formato que el datetime lo pueda leer\n",
    "#Plataform dice en que dispositivos se reprodujo musica\n",
    "#MS_played dice los milisegundos de musica que se escucho \n",
    "#master_metadata_album_artist_name dice el nombre de los artistas\n",
    "#master_metadata_album_album_name dice el nombre de los albumes\n",
    "#master_metadata_track_name  dice el nombre de las canciones\n",
    "#spotify_track_uri es lo que identifica cada cancion\n",
    "# :)\n"
   ]
  },
  {
   "cell_type": "code",
   "execution_count": 23,
   "metadata": {},
   "outputs": [
    {
     "name": "stdout",
     "output_type": "stream",
     "text": [
      "Hay reproducciones registradas desde 2014-06-27 18:01:15+00:00 hasta 2024-05-23 23:56:20+00:00\n"
     ]
    }
   ],
   "source": [
    "#¿A partir de que fecha se registraron las reproducciones? ¿Hasta que fecha?\n",
    "fecha_repro = pd.to_datetime( spotify[\"ts\"] )\n",
    "print(\"Hay reproducciones registradas desde\", fecha_repro.min() , \"hasta\", fecha_repro.max())\n",
    "#Interpretamos la fecha para lo que usamos datetime y vimos el maximo y el minimo de repoducciones y lo mostramos. :)"
   ]
  },
  {
   "cell_type": "code",
   "execution_count": 24,
   "metadata": {},
   "outputs": [
    {
     "data": {
      "text/plain": [
       "11556"
      ]
     },
     "execution_count": 24,
     "metadata": {},
     "output_type": "execute_result"
    }
   ],
   "source": [
    "#¿Cuántas canciones diferentes se escucharon en total?\n",
    "nombreDelGrupo = spotify.groupby(\"spotify_track_uri\")\n",
    "len (nombreDelGrupo)\n",
    "#Vimos en el uri y lo agrupamos para saber cuantas canciones diferentes se escucharon y vimos la longitud de esa agrupacion\n",
    "#La longitud es la cantidad de canciones escuchadas y son diferentes :)"
   ]
  },
  {
   "cell_type": "code",
   "execution_count": 25,
   "metadata": {},
   "outputs": [
    {
     "data": {
      "text/plain": [
       "spotify_track_uri\n",
       "spotify:track:001b8XFtRhhFrMbWROVgO4    5.142217\n",
       "spotify:track:008YILXYfsMa2KuPY8bBtl    2.832267\n",
       "spotify:track:009s8MccQSXM4pAQwsP59s    0.072883\n",
       "spotify:track:00DiMUseXsW3L8eR8G8xOa    0.034633\n",
       "spotify:track:00GOPLxW4PGQuUYdPJh8K1    3.023433\n",
       "                                          ...   \n",
       "spotify:track:7zoQhAYWNKRyARI7xPnJW1    0.566583\n",
       "spotify:track:7zrpoAJte9o12TzawqgdD0    0.007933\n",
       "spotify:track:7zsgBOY20sX0Z8L4RTdU3Y    0.611650\n",
       "spotify:track:7zvKFw17XyoBUx9mHiwzPy    5.505983\n",
       "spotify:track:7zx1i0jGcFwMBurajgKlO7    0.040883\n",
       "Name: ms_played, Length: 11556, dtype: float64"
      ]
     },
     "execution_count": 25,
     "metadata": {},
     "output_type": "execute_result"
    }
   ],
   "source": [
    "#¿Cuánto es la duración total de las reproducciones de canciones registradas? \n",
    "# Pista: ¿Alguna columna del dataset indica la duración de la reproducción?\n",
    "nombreDelGrupo = spotify.groupby(\"spotify_track_uri\")\n",
    "tiempoDeReproduccion =  nombreDelGrupo['ms_played'].sum()/60000\n",
    "tiempoDeReproduccion\n",
    "#Vimos en el uri y lo agrupamos y sumamos los valores que hay en ms_player. Asi sabemos cuanto se reprodujo cada cancion :)"
   ]
  },
  {
   "cell_type": "code",
   "execution_count": 26,
   "metadata": {},
   "outputs": [
    {
     "data": {
      "text/plain": [
       "master_metadata_album_artist_name\n",
       "Charly García    295324381\n",
       "Name: ms_played, dtype: int64"
      ]
     },
     "execution_count": 26,
     "metadata": {},
     "output_type": "execute_result"
    }
   ],
   "source": [
    "#¿Cuál es el artista más escuchado por tiempo total de reproducción?\n",
    "artistaGrupo = spotify.groupby ('master_metadata_album_artist_name')\n",
    "tiempoArtistaGrupo = artistaGrupo['ms_played'].sum().sort_values (ascending=False).head(1)\n",
    "tiempoArtistaGrupo\n",
    "#Agrupamos por el artista y sumamos el tiempo (en milisegundos) que se reprodujeron las canciones de cada uno de los artistas\n",
    "#Le dijimos que se ordenen de mayor a menor, el artista mas escuchado es el mayor de los escuchados. :)\n",
    "#Banco a Charly como artista mas escuchado"
   ]
  },
  {
   "cell_type": "code",
   "execution_count": 27,
   "metadata": {},
   "outputs": [
    {
     "data": {
      "text/html": [
       "<div>\n",
       "<style scoped>\n",
       "    .dataframe tbody tr th:only-of-type {\n",
       "        vertical-align: middle;\n",
       "    }\n",
       "\n",
       "    .dataframe tbody tr th {\n",
       "        vertical-align: top;\n",
       "    }\n",
       "\n",
       "    .dataframe thead th {\n",
       "        text-align: right;\n",
       "    }\n",
       "</style>\n",
       "<table border=\"1\" class=\"dataframe\">\n",
       "  <thead>\n",
       "    <tr style=\"text-align: right;\">\n",
       "      <th></th>\n",
       "      <th>ms_played</th>\n",
       "      <th>master_metadata_track_name</th>\n",
       "      <th>master_metadata_album_artist_name</th>\n",
       "    </tr>\n",
       "    <tr>\n",
       "      <th>spotify_track_uri</th>\n",
       "      <th></th>\n",
       "      <th></th>\n",
       "      <th></th>\n",
       "    </tr>\n",
       "  </thead>\n",
       "  <tbody>\n",
       "    <tr>\n",
       "      <th>spotify:track:0wXuerDYiBnERgIpbb3JBR</th>\n",
       "      <td>56637046</td>\n",
       "      <td>[Redbone]</td>\n",
       "      <td>[Childish Gambino]</td>\n",
       "    </tr>\n",
       "  </tbody>\n",
       "</table>\n",
       "</div>"
      ],
      "text/plain": [
       "                                      ms_played master_metadata_track_name  \\\n",
       "spotify_track_uri                                                            \n",
       "spotify:track:0wXuerDYiBnERgIpbb3JBR   56637046                  [Redbone]   \n",
       "\n",
       "                                     master_metadata_album_artist_name  \n",
       "spotify_track_uri                                                       \n",
       "spotify:track:0wXuerDYiBnERgIpbb3JBR                [Childish Gambino]  "
      ]
     },
     "metadata": {},
     "output_type": "display_data"
    }
   ],
   "source": [
    "#¿Cuál es la canción más escuchada por tiempo total de reproducción?\n",
    "cancionGrupo = spotify.groupby('spotify_track_uri').agg({'ms_played': 'sum','master_metadata_track_name': 'unique', 'master_metadata_album_artist_name' : 'unique'})\n",
    "display (cancionGrupo.sort_values(by= 'ms_played', ascending=False).head(1))\n",
    "#Vimos en el uri y lo agrupamos y con .agg sumamos el tiempo y le dijimos que nos de los valores del nombre de la cancion y el artista\n",
    "#Le dijimos que se ordenen de mayor a menor, mostramos en el display la primera (la mayor) pero que ms_player lo ordene. :)"
   ]
  },
  {
   "cell_type": "code",
   "execution_count": 31,
   "metadata": {},
   "outputs": [
    {
     "name": "stdout",
     "output_type": "stream",
     "text": [
      "Del artista mas escuchado ( Charly García ) la cancion mas escuchada de ese artista es Hablando a Tu Corazón\n"
     ]
    }
   ],
   "source": [
    "#Del artista más escuchado (por tiempo reproducido), ¿cuál es la canción más escuchada?\n",
    "artistaGrupo = spotify.groupby ('master_metadata_album_artist_name')['ms_played'].sum().sort_values (ascending=False).head(1)\n",
    "artistaMasEscuchado = artistaGrupo.index[0]\n",
    "cancionDelArtista = spotify[spotify['master_metadata_album_artist_name'] == artistaMasEscuchado]\n",
    "cancionMasEscuchada = cancionDelArtista.groupby('master_metadata_track_name')['ms_played'].sum().sort_values(ascending=False).head(1)\n",
    "print (\"Del artista mas escuchado (\",artistaMasEscuchado,\") la cancion mas escuchada de ese artista es\",cancionMasEscuchada.index[0])\n",
    "#Vimos en el uri y lo agrupamos, le sumamos el tiempo escuchado y agarramos el que mas tenia\n",
    "#El indice de la agrupacion hecha lo guardamos en artistaMasEcuchado\n",
    "#hicimos un dataframe que tenga la fila en el que el artista sea igual a artistaMasEcuchado\n",
    "#hicimos otro dataframe en que pusimos por nombre las canciones mas escuchadas, le sumamos el tiempo y de ese agarramos la mayor\n",
    "#Despues printeamos toda la info para cumplir la consigna. :)\n",
    "#La cancion es un temon"
   ]
  },
  {
   "cell_type": "code",
   "execution_count": 34,
   "metadata": {},
   "outputs": [
    {
     "data": {
      "image/png": "[encoded data removed]",
      "text/plain": [
       "<Figure size 640x480 with 1 Axes>"
      ]
     },
     "metadata": {},
     "output_type": "display_data"
    }
   ],
   "source": [
    "#Determinar el top 10 de artistas más escuchados . Elegir un tipo de gráfico adecuado para visualizar los resultados.\n",
    "artistaGrupo = spotify.groupby ('master_metadata_album_artist_name')['ms_played'].sum()/3600000\n",
    "elPlot = artistaGrupo.sort_values (ascending=False).head(10).plot(kind='bar').set_ylabel('tiempo en horas')\n",
    "#aca agrupamos el artista y lo sumamos con el tiempo que se escucho en horas\n",
    "#hicimos un plot(grafico) de barras, creo el que es el mejor, y pusimos los 10 artistas mas escuchados. :)"
   ]
  },
  {
   "cell_type": "code",
   "execution_count": 35,
   "metadata": {},
   "outputs": [
    {
     "data": {
      "image/png": "[encoded data removed]",
      "text/plain": [
       "<Figure size 640x480 with 1 Axes>"
      ]
     },
     "metadata": {},
     "output_type": "display_data"
    }
   ],
   "source": [
    "#Determinar el top 10 de canciones más escuchadas. Elegir un tipo de gráfico adecuado para visualizar los resultados.\n",
    "cancionGrupo = spotify.groupby('spotify_track_uri').agg({'ms_played': lambda x: x.sum() / 3600000,'master_metadata_track_name': 'unique', 'master_metadata_album_artist_name' : 'unique'})\n",
    "elTop10cancion = cancionGrupo.sort_values(by= 'ms_played', ascending=False).head(10)\n",
    "elPlot = elTop10cancion.plot(kind='bar', x='master_metadata_track_name', xlabel='top 10 canciones', y='ms_played')\n",
    "#Vimos en el uri y lo agrupamos y sumamos tiempo y usamos lambda que lo que hace es definir en una linea para sumar y dividir los valores al mismo tiempo\n",
    "#guardamos el top10 de las canciones\n",
    "#hicimos un plot(grafico) de barras, creo el que es el mejor, y pusimos el top 10 canaciones mas escuchadas. :)"
   ]
  },
  {
   "cell_type": "code",
   "execution_count": 19,
   "metadata": {},
   "outputs": [
    {
     "data": {
      "text/plain": [
       "master_metadata_album_artist_name\n",
       "2 Chainz             0\n",
       "AREA21               0\n",
       "Accept               0\n",
       "Alfa Mist            0\n",
       "Alonso y Bernardo    0\n",
       "                    ..\n",
       "j mena               0\n",
       "levitation room      0\n",
       "salem ilese          0\n",
       "will.i.am            0\n",
       "wunderkind           0\n",
       "Name: ms_played, Length: 171, dtype: int64"
      ]
     },
     "execution_count": 19,
     "metadata": {},
     "output_type": "execute_result"
    }
   ],
   "source": [
    "#1 pregunta adicional\n",
    "#¿Cual es el artista menos escuchado?\n",
    "artistaMenosEscuchado = spotify.groupby ('master_metadata_album_artist_name')\n",
    "artistaMenosEscuchado = artistaMenosEscuchado['ms_played'].sum()\n",
    "artistaMenosEscuchado[artistaMenosEscuchado == 0]\n",
    "#Explicacion:\n",
    "# Agrupamos por album. Sumamos los milisegs escuchados. Agarramos del groupby solamente los que no fueron escuchados. :)"
   ]
  },
  {
   "cell_type": "code",
   "execution_count": 21,
   "metadata": {},
   "outputs": [
    {
     "data": {
      "text/plain": [
       "master_metadata_album_artist_name\n",
       "Fito Paez    172217541\n",
       "Name: ms_played, dtype: int64"
      ]
     },
     "execution_count": 21,
     "metadata": {},
     "output_type": "execute_result"
    }
   ],
   "source": [
    "#2 pregunta adicional\n",
    "#¿Cual es el 11 artista mas escuchado?\n",
    "artistasAgrupados = spotify.groupby ('master_metadata_album_artist_name')\n",
    "artistasAgrupados['ms_played'].sum().sort_values(ascending=0).head(11).tail(1)\n",
    "#Explicacion: \n",
    "#Agrupamos por artista. Sumamos los milisegs que se escucho a cada uno. \n",
    "#Agarramos los primeros once y de esos primeros once, el ultimo :)"
   ]
  },
  {
   "cell_type": "code",
   "execution_count": 20,
   "metadata": {},
   "outputs": [
    {
     "data": {
      "text/plain": [
       "master_metadata_album_album_name\n",
       "\"Awaken, My Love!\"    126862200\n",
       "Name: ms_played, dtype: int64"
      ]
     },
     "execution_count": 20,
     "metadata": {},
     "output_type": "execute_result"
    }
   ],
   "source": [
    "#3 pregunta adicional\n",
    "#¿Cual es el album mas escuchado?\n",
    "spotify.groupby('master_metadata_album_album_name')['ms_played'].sum().sort_values(ascending=0).head(1)\n",
    "#Explicacion:\n",
    "# Agrupamos por album. Sumamos los milisegs escuchados. Filtramos de mayor a menor y agarramos el primero. :)"
   ]
  }
 ],
 "metadata": {
  "kernelspec": {
   "display_name": "Python 3",
   "language": "python",
   "name": "python3"
  },
  "language_info": {
   "codemirror_mode": {
    "name": "ipython",
    "version": 3
   },
   "file_extension": ".py",
   "mimetype": "text/x-python",
   "name": "python",
   "nbconvert_exporter": "python",
   "pygments_lexer": "ipython3",
   "version": "3.11.9"
  }
 },
 "nbformat": 4,
 "nbformat_minor": 2
}
